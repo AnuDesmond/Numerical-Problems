{
 "cells": [
  {
   "cell_type": "code",
   "execution_count": null,
   "metadata": {},
   "outputs": [],
   "source": [
    "#Let’s say you’re playing a game with your friends. You roll a six sided die \n",
    "#and sum the value of your roll. You can keep doing this as long as you keep \n",
    "#rolling larger values.\n",
    "#For instance, if you roll a sequence 1-2-6-4, in this case, you sum the \n",
    "#first three rolls, so your sum would be 9, and then you stop rolling. \n",
    "#If you roll a sequence 1-2-6-6, in this case also you sum the first three rolls, \n",
    "#so your sum would be 9.\n",
    "#A. What is the expected value of the sum of the rolls?\n",
    "#B. What is the expected value of the number of rolls?"
   ]
  },
  {
   "cell_type": "code",
   "execution_count": 26,
   "metadata": {},
   "outputs": [],
   "source": [
    "#let's say we are calculate from branch n(start from n) to branch 1 (strat from 1)\n",
    "#the value of every branch equals to two parts: the start value * 1/n +the sum of all the known values * 1/n\n",
    "#sum the value together so that we can get the expected value\n",
    "def expsum(sides):\n",
    "    mylist=[]\n",
    "    for i in range(sides):\n",
    "        new=sum(mylist)*1/sides+(sides-i)*1/sides\n",
    "        mylist.append(new)    \n",
    "    return sum(mylist)"
   ]
  },
  {
   "cell_type": "code",
   "execution_count": 27,
   "metadata": {},
   "outputs": [],
   "source": [
    "def exprolls(sides):\n",
    "    mylist=[]\n",
    "    for i in range(sides):\n",
    "        new=sum(mylist)*1/sides+1*1/sides\n",
    "        mylist.append(new)    \n",
    "    return sum(mylist)"
   ]
  },
  {
   "cell_type": "code",
   "execution_count": 28,
   "metadata": {},
   "outputs": [
    {
     "data": {
      "text/plain": [
       "1.6464258210976852"
      ]
     },
     "execution_count": 28,
     "metadata": {},
     "output_type": "execute_result"
    }
   ],
   "source": [
    "exprolls(18)"
   ]
  },
  {
   "cell_type": "code",
   "execution_count": 21,
   "metadata": {},
   "outputs": [],
   "source": [
    "class seq():\n",
    "    def __init__(self,n):\n",
    "        self.n = n\n",
    "        self.list=[[]]\n",
    "        self.list2=[]\n",
    "        self.dict={}\n",
    "        self.dict2={}\n",
    "        \n",
    "    def getseq(self):\n",
    "        return list(range(1,self.n+1))\n",
    "    \n",
    "    def powerseq(self):\n",
    "        for e in seq(self.n).getseq():\n",
    "            self.list += [x+[e] for x in self.list]\n",
    "        return self.list\n",
    "    \n",
    "    def getdict(self):\n",
    "        for s in seq(self.n).powerseq()[1:]:\n",
    "            self.dict[tuple(s)] = [1/self.n**len(s), sum(s),len(s)]\n",
    "        return self.dict\n",
    "    \n",
    "    def allset(self):\n",
    "        for num in list(range(1,self.n+1)):\n",
    "            mylist = [num]\n",
    "            if mylist[-1]<self.n:\n",
    "                \n",
    "            \n",
    "    \n",
    "#     def Q1seq(self):\n",
    "#         mydist={}\n",
    "#         for num in list(range(1,self.n+1)):\n",
    "#             mydist[num]\n",
    "            \n",
    "#             self.list2 += [num,[x] for x in self.list2]\n",
    "#         return self.list2            \n",
    "    \n",
    "#     def getQ1dict(self):\n",
    "#         newseq=seq(self.n).powerseq()[1:]\n",
    "#         for s in seq(self.n).powerseq()[1:]:\n",
    "#             if s[-1]<self.n:\n",
    "#                 newseq.remove(s)\n",
    "#         for s in seq(self.n).powerseq():\n",
    "#             for i in range(len(s)-1):\n",
    "#                 if s[i] > s[i+1]:\n",
    "#                     newseq.remove(s)            \n",
    "#         for s in newseq:\n",
    "#             self.dict2[tuple(s)] = [1/self.n**len(s), sum(s),len(s)]\n",
    "#         return self.dict2\n",
    "                "
   ]
  },
  {
   "cell_type": "code",
   "execution_count": 22,
   "metadata": {},
   "outputs": [
    {
     "data": {
      "text/plain": [
       "[[], [1], [2], [1, 2], [3], [1, 3], [2, 3], [1, 2, 3]]"
      ]
     },
     "execution_count": 22,
     "metadata": {},
     "output_type": "execute_result"
    }
   ],
   "source": [
    "seq(3).powerseq()"
   ]
  },
  {
   "cell_type": "code",
   "execution_count": 7,
   "metadata": {},
   "outputs": [
    {
     "data": {
      "text/plain": [
       "[4, 3, 2, 1]"
      ]
     },
     "execution_count": 7,
     "metadata": {},
     "output_type": "execute_result"
    }
   ],
   "source": [
    "list(reversed(range(1,5)))"
   ]
  },
  {
   "cell_type": "code",
   "execution_count": 1,
   "metadata": {},
   "outputs": [],
   "source": [
    "import random\n",
    "class dice():\n",
    "    def __init__(self, sides):\n",
    "        self.sides = sides\n",
    "\n",
    "    def roll(self):\n",
    "        return random.randint(1, self.sides)"
   ]
  },
  {
   "cell_type": "code",
   "execution_count": 2,
   "metadata": {},
   "outputs": [],
   "source": [
    "def check(n,times):\n",
    "    import statistics\n",
    "    sumlist=[]\n",
    "    countlist=[]\n",
    "    for i in range(times):\n",
    "        mynum=[dice(n).roll()]\n",
    "        count=1\n",
    "        games = True\n",
    "        while games == True:\n",
    "            newroll=dice(n).roll()\n",
    "            if newroll>mynum[-1]:\n",
    "                mynum.append(newroll)\n",
    "                count+=1\n",
    "            else:\n",
    "                games = False\n",
    "        sumlist.append(sum(mynum))\n",
    "        countlist.append(count)\n",
    "    return statistics.mean(sumlist),statistics.mean(countlist)"
   ]
  },
  {
   "cell_type": "code",
   "execution_count": 30,
   "metadata": {},
   "outputs": [
    {
     "data": {
      "text/plain": [
       "1.64452"
      ]
     },
     "execution_count": 30,
     "metadata": {},
     "output_type": "execute_result"
    }
   ],
   "source": [
    "n=18\n",
    "check(n,100000)[1]"
   ]
  },
  {
   "cell_type": "code",
   "execution_count": 10,
   "metadata": {},
   "outputs": [],
   "source": [
    "def powerset(s):\n",
    "    x = len(s)\n",
    "    masks = [1 << i for i in range(x)]\n",
    "    for i in range(1 << x):\n",
    "        yield [ss for mask, ss in zip(masks, s) if i & mask]"
   ]
  },
  {
   "cell_type": "markdown",
   "metadata": {},
   "source": [
    "1*(1/3+2/9+3/27)+2*(2/9+2/27)+3*(1/27)"
   ]
  },
  {
   "cell_type": "code",
   "execution_count": 5,
   "metadata": {},
   "outputs": [],
   "source": [
    "def powerset(seq):\n",
    "    \"\"\"\n",
    "    Returns all the subsets of this set. This is a generator.\n",
    "    \"\"\"\n",
    "    if len(seq) <= 1:\n",
    "        yield seq\n",
    "        yield []\n",
    "    else:\n",
    "        for item in powerset(seq[1:]):\n",
    "            yield [seq[0]]+item\n",
    "            yield item"
   ]
  }
 ],
 "metadata": {
  "kernelspec": {
   "display_name": "Python 3",
   "language": "python",
   "name": "python3"
  },
  "language_info": {
   "codemirror_mode": {
    "name": "ipython",
    "version": 3
   },
   "file_extension": ".py",
   "mimetype": "text/x-python",
   "name": "python",
   "nbconvert_exporter": "python",
   "pygments_lexer": "ipython3",
   "version": "3.6.5"
  }
 },
 "nbformat": 4,
 "nbformat_minor": 2
}
